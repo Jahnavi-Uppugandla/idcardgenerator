{
 "cells": [
  {
   "cell_type": "code",
   "execution_count": 8,
   "id": "2eff7082",
   "metadata": {},
   "outputs": [
    {
     "name": "stdout",
     "output_type": "stream",
     "text": [
      "Requirement already satisfied: reportlab in c:\\users\\jaahn\\appdata\\local\\programs\\python\\python312\\lib\\site-packages (4.2.0)\n",
      "Requirement already satisfied: pillow>=9.0.0 in c:\\users\\jaahn\\appdata\\local\\programs\\python\\python312\\lib\\site-packages (from reportlab) (10.3.0)\n",
      "Requirement already satisfied: chardet in c:\\users\\jaahn\\appdata\\local\\programs\\python\\python312\\lib\\site-packages (from reportlab) (5.2.0)\n"
     ]
    },
    {
     "name": "stderr",
     "output_type": "stream",
     "text": [
      "\n",
      "[notice] A new release of pip is available: 23.2.1 -> 24.0\n",
      "[notice] To update, run: python.exe -m pip install --upgrade pip\n"
     ]
    }
   ],
   "source": [
    "!pip install reportlab "
   ]
  },
  {
   "cell_type": "code",
   "execution_count": 9,
   "id": "eac30210",
   "metadata": {},
   "outputs": [
    {
     "ename": "ModuleNotFoundError",
     "evalue": "No module named 'pandas'",
     "output_type": "error",
     "traceback": [
      "\u001b[1;31m---------------------------------------------------------------------------\u001b[0m",
      "\u001b[1;31mModuleNotFoundError\u001b[0m                       Traceback (most recent call last)",
      "Cell \u001b[1;32mIn[9], line 2\u001b[0m\n\u001b[0;32m      1\u001b[0m \u001b[38;5;28;01mimport\u001b[39;00m \u001b[38;5;21;01mos\u001b[39;00m \n\u001b[1;32m----> 2\u001b[0m \u001b[38;5;28;01mimport\u001b[39;00m \u001b[38;5;21;01mpandas\u001b[39;00m \u001b[38;5;28;01mas\u001b[39;00m \u001b[38;5;21;01mpd\u001b[39;00m\n\u001b[0;32m      3\u001b[0m \u001b[38;5;28;01mfrom\u001b[39;00m \u001b[38;5;21;01mPIL\u001b[39;00m \u001b[38;5;28;01mimport\u001b[39;00m Image, ImageDraw, ImageFont\n\u001b[0;32m      4\u001b[0m \u001b[38;5;28;01mfrom\u001b[39;00m \u001b[38;5;21;01mreportlab\u001b[39;00m\u001b[38;5;21;01m.\u001b[39;00m\u001b[38;5;21;01mpdfgen\u001b[39;00m \u001b[38;5;28;01mimport\u001b[39;00m canvas\n",
      "\u001b[1;31mModuleNotFoundError\u001b[0m: No module named 'pandas'"
     ]
    }
   ],
   "source": [
    "import os \n",
    "import pandas as pd\n",
    "from PIL import Image, ImageDraw, ImageFont\n",
    "from reportlab.pdfgen import canvas \n",
    "     "
   ]
  },
  {
   "cell_type": "code",
   "execution_count": 10,
   "id": "edcd63e3",
   "metadata": {},
   "outputs": [],
   "source": [
    "CSV_FILE = 'employee_data.csv'\n",
    "TEMPLATE_IMAGE = 'ute_id_template.png'\n",
    "PHOTOS_DIR = 'employee_photos/employee_photos'\n",
    "OUTPUT_PDF = 'employee_id_cards.pdf'\n",
    "     "
   ]
  },
  {
   "cell_type": "code",
   "execution_count": 11,
   "id": "ab176850",
   "metadata": {},
   "outputs": [],
   "source": [
    "import os\n",
    "from PIL import Image, ImageDraw, ImageFont\n",
    "\n",
    "PHOTOS_DIR = \"employee_photos/employee_photos\"  # Directory for photos\n",
    "\n",
    "def create_id_card(template, name, title, photo_filename):\n",
    "    # Construct the photo path using os.path.join\n",
    "    photo_path = os.path.join(PHOTOS_DIR, photo_filename)  # Use the filename from the CSV\n",
    "    # Load the template and photo\n",
    "    template_img = Image.open(template).convert('RGBA')\n",
    "    # Check if the photo exists before opening\n",
    "    if not os.path.exists(photo_path):\n",
    "        raise FileNotFoundError(f\"Photo file '{photo_path}' not found.\")\n",
    "    \n",
    "    # Open and resize the photo\n",
    "    photo_img = Image.open(photo_path).resize((150, 150))  # Adjust size as needed\n",
    "    \n",
    "    # Paste the photo onto the template\n",
    "    template_img.paste(photo_img, (160, 8))  # Adjust position as needed\n",
    "    \n",
    "    # Use PIL to write text onto the template\n",
    "    draw = ImageDraw.Draw(template_img)\n",
    "    font = ImageFont.load_default()\n",
    "\n",
    "    # Draw text\n",
    "    draw.text((170, 170), f\"Name: {name}\", font=font, fill='black')\n",
    "    draw.text((170, 180), f\"Title: {title}\", font=font, fill='black')\n",
    "    \n",
    "    # Return the modified template\n",
    "    return template_img\n"
   ]
  },
  {
   "cell_type": "code",
   "execution_count": 15,
   "id": "b131fecf",
   "metadata": {},
   "outputs": [
    {
     "ename": "NameError",
     "evalue": "name 'pd' is not defined",
     "output_type": "error",
     "traceback": [
      "\u001b[1;31m---------------------------------------------------------------------------\u001b[0m",
      "\u001b[1;31mNameError\u001b[0m                                 Traceback (most recent call last)",
      "Cell \u001b[1;32mIn[15], line 25\u001b[0m\n\u001b[0;32m     22\u001b[0m     \u001b[38;5;28mprint\u001b[39m(\u001b[38;5;124m\"\u001b[39m\u001b[38;5;124mAll ID cards have been generated into a single PDF.\u001b[39m\u001b[38;5;124m\"\u001b[39m)\n\u001b[0;32m     24\u001b[0m \u001b[38;5;28;01mif\u001b[39;00m \u001b[38;5;18m__name__\u001b[39m \u001b[38;5;241m==\u001b[39m \u001b[38;5;124m'\u001b[39m\u001b[38;5;124m__main__\u001b[39m\u001b[38;5;124m'\u001b[39m:\n\u001b[1;32m---> 25\u001b[0m     \u001b[43mmain\u001b[49m\u001b[43m(\u001b[49m\u001b[43m)\u001b[49m\n",
      "Cell \u001b[1;32mIn[15], line 3\u001b[0m, in \u001b[0;36mmain\u001b[1;34m()\u001b[0m\n\u001b[0;32m      1\u001b[0m \u001b[38;5;28;01mdef\u001b[39;00m \u001b[38;5;21mmain\u001b[39m():\n\u001b[0;32m      2\u001b[0m     \u001b[38;5;66;03m# Read CSV file\u001b[39;00m\n\u001b[1;32m----> 3\u001b[0m     df \u001b[38;5;241m=\u001b[39m \u001b[43mpd\u001b[49m\u001b[38;5;241m.\u001b[39mread_csv(CSV_FILE)\n\u001b[0;32m      5\u001b[0m     \u001b[38;5;66;03m# Prepare PDF\u001b[39;00m\n\u001b[0;32m      6\u001b[0m     c \u001b[38;5;241m=\u001b[39m canvas\u001b[38;5;241m.\u001b[39mCanvas(OUTPUT_PDF, pagesize\u001b[38;5;241m=\u001b[39m(\u001b[38;5;241m640\u001b[39m, \u001b[38;5;241m400\u001b[39m))  \u001b[38;5;66;03m# Adjust pagesize to fit the ID card size\u001b[39;00m\n",
      "\u001b[1;31mNameError\u001b[0m: name 'pd' is not defined"
     ]
    }
   ],
   "source": [
    "def main():\n",
    "    # Read CSV file\n",
    "    df = pd.read_csv(CSV_FILE)\n",
    "\n",
    "    # Prepare PDF\n",
    "    c = canvas.Canvas(OUTPUT_PDF, pagesize=(640, 400))  # Adjust pagesize to fit the ID card size\n",
    "\n",
    "    count = 1\n",
    "    # Create ID cards\n",
    "    for _, row in df.iterrows():\n",
    "        print(row)\n",
    "        img = create_id_card(TEMPLATE_IMAGE, row['Name'], row['Title'], row['photo'])\n",
    "        # Save to a temporary image file\n",
    "        img.save(f'temp_id{count}.png', 'PNG')\n",
    "        # Draw this image onto the PDF\n",
    "        c.drawImage(f'temp_id{count}.png', 0, 0, 640, 400)  # Match pagesize\n",
    "        count = count + 1\n",
    "        c.showPage()\n",
    "\n",
    "    # Save the PDF\n",
    "    c.save()\n",
    "    print(\"All ID cards have been generated into a single PDF.\")\n",
    "\n",
    "if __name__ == '__main__':\n",
    "    main()"
   ]
  },
  {
   "cell_type": "code",
   "execution_count": null,
   "id": "e56f07f7",
   "metadata": {},
   "outputs": [],
   "source": []
  }
 ],
 "metadata": {
  "kernelspec": {
   "display_name": "Python 3 (ipykernel)",
   "language": "python",
   "name": "python3"
  },
  "language_info": {
   "codemirror_mode": {
    "name": "ipython",
    "version": 3
   },
   "file_extension": ".py",
   "mimetype": "text/x-python",
   "name": "python",
   "nbconvert_exporter": "python",
   "pygments_lexer": "ipython3",
   "version": "3.12.0"
  }
 },
 "nbformat": 4,
 "nbformat_minor": 5
}
