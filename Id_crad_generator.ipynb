{
 "cells": [
  {
   "cell_type": "code",
   "execution_count": null,
   "id": "2eff7082",
   "metadata": {},
   "outputs": [],
   "source": [
    "!pip install reportlab "
   ]
  },
  {
   "cell_type": "code",
   "execution_count": null,
   "id": "eac30210",
   "metadata": {},
   "outputs": [],
   "source": [
    "import os \n",
    "import pandas as pd\n",
    "from PIL import Image, ImageDraw, ImageFont\n",
    "from reportlab.pdfgen import canvas \n",
    "     "
   ]
  },
  {
   "cell_type": "code",
   "execution_count": null,
   "id": "edcd63e3",
   "metadata": {},
   "outputs": [],
   "source": [
    "CSV_FILE = 'employee_data.csv'\n",
    "TEMPLATE_IMAGE = 'ute_id_template.png'\n",
    "PHOTOS_DIR = 'employee_photos/employee_photos'\n",
    "OUTPUT_PDF = 'employee_id_cards.pdf'\n",
    "     "
   ]
  },
  {
   "cell_type": "code",
   "execution_count": null,
   "id": "ab176850",
   "metadata": {},
   "outputs": [],
   "source": [
    "import os\n",
    "from PIL import Image, ImageDraw, ImageFont\n",
    "\n",
    "PHOTOS_DIR = \"employee_photos/employee_photos\"  # Directory for photos\n",
    "\n",
    "def create_id_card(template, name, title, photo_filename):\n",
    "    # Construct the photo path using os.path.join\n",
    "    photo_path = os.path.join(PHOTOS_DIR, photo_filename)  # Use the filename from the CSV\n",
    "    # Load the template and photo\n",
    "    template_img = Image.open(template).convert('RGBA')\n",
    "    # Check if the photo exists before opening\n",
    "    if not os.path.exists(photo_path):\n",
    "        raise FileNotFoundError(f\"Photo file '{photo_path}' not found.\")\n",
    "    \n",
    "    # Open and resize the photo\n",
    "    photo_img = Image.open(photo_path).resize((150, 150))  # Adjust size as needed\n",
    "    \n",
    "    # Paste the photo onto the template\n",
    "    template_img.paste(photo_img, (160, 8))  # Adjust position as needed\n",
    "    \n",
    "    # Use PIL to write text onto the template\n",
    "    draw = ImageDraw.Draw(template_img)\n",
    "    font = ImageFont.load_default()\n",
    "\n",
    "    # Draw text\n",
    "    draw.text((170, 170), f\"Name: {name}\", font=font, fill='black')\n",
    "    draw.text((170, 180), f\"Title: {title}\", font=font, fill='black')\n",
    "    \n",
    "    # Return the modified template\n",
    "    return template_img\n"
   ]
  },
  {
   "cell_type": "code",
   "execution_count": null,
   "id": "b131fecf",
   "metadata": {},
   "outputs": [],
   "source": [
    "def main():\n",
    "    # Read CSV file\n",
    "    df = pd.read_csv(CSV_FILE)\n",
    "\n",
    "    # Prepare PDF\n",
    "    c = canvas.Canvas(OUTPUT_PDF, pagesize=(640, 400))  # Adjust pagesize to fit the ID card size\n",
    "\n",
    "    count = 1\n",
    "    # Create ID cards\n",
    "    for _, row in df.iterrows():\n",
    "        print(row)\n",
    "        img = create_id_card(TEMPLATE_IMAGE, row['Name'], row['Title'], row['photo'])\n",
    "        # Save to a temporary image file\n",
    "        img.save(f'temp_id{count}.png', 'PNG')\n",
    "        # Draw this image onto the PDF\n",
    "        c.drawImage(f'temp_id{count}.png', 0, 0, 640, 400)  # Match pagesize\n",
    "        count = count + 1\n",
    "        c.showPage()\n",
    "\n",
    "    # Save the PDF\n",
    "    c.save()\n",
    "    print(\"All ID cards have been generated into a single PDF.\")\n",
    "\n",
    "if __name__ == '__main__':\n",
    "    main()"
   ]
  },
  {
   "cell_type": "code",
   "execution_count": null,
   "id": "e56f07f7",
   "metadata": {},
   "outputs": [],
   "source": []
  }
 ],
 "metadata": {
  "kernelspec": {
   "display_name": "Python 3 (ipykernel)",
   "language": "python",
   "name": "python3"
  },
  "language_info": {
   "codemirror_mode": {
    "name": "ipython",
    "version": 3
   },
   "file_extension": ".py",
   "mimetype": "text/x-python",
   "name": "python",
   "nbconvert_exporter": "python",
   "pygments_lexer": "ipython3",
   "version": "3.12.0"
  }
 },
 "nbformat": 4,
 "nbformat_minor": 5
}
